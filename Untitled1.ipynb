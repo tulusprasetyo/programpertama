{
  "nbformat": 4,
  "nbformat_minor": 0,
  "metadata": {
    "colab": {
      "provenance": [],
      "authorship_tag": "ABX9TyPMAD3Gt1m8OSjwZj78ZnNU",
      "include_colab_link": true
    },
    "kernelspec": {
      "name": "python3",
      "display_name": "Python 3"
    },
    "language_info": {
      "name": "python"
    }
  },
  "cells": [
    {
      "cell_type": "markdown",
      "metadata": {
        "id": "view-in-github",
        "colab_type": "text"
      },
      "source": [
        "<a href=\"https://colab.research.google.com/github/tulusprasetyo/programpertama/blob/main/Untitled1.ipynb\" target=\"_parent\"><img src=\"https://colab.research.google.com/assets/colab-badge.svg\" alt=\"Open In Colab\"/></a>"
      ]
    },
    {
      "cell_type": "code",
      "execution_count": 1,
      "metadata": {
        "id": "9PtDWkaWS1W0",
        "colab": {
          "base_uri": "https://localhost:8080/"
        },
        "outputId": "a6622169-7e53-4e3b-be38-cc6b8c86cf12"
      },
      "outputs": [
        {
          "output_type": "stream",
          "name": "stdout",
          "text": [
            "kode program ini akan di eksekusi\n"
          ]
        }
      ],
      "source": [
        "if True:\n",
        "  print('kode program ini akan di eksekusi')\n",
        ""
      ]
    },
    {
      "cell_type": "code",
      "source": [
        "if False:\n",
        "  print('kode program ini tidak akan di eksekusi')"
      ],
      "metadata": {
        "id": "WT_wLJ20Xl8A"
      },
      "execution_count": 2,
      "outputs": []
    },
    {
      "cell_type": "code",
      "source": [
        "print('kode program ini akan selalu di eksekusi')"
      ],
      "metadata": {
        "colab": {
          "base_uri": "https://localhost:8080/"
        },
        "id": "QFzw_1iYX0P0",
        "outputId": "843f2170-43bb-4d71-e543-e0b4b82f767d"
      },
      "execution_count": 3,
      "outputs": [
        {
          "output_type": "stream",
          "name": "stdout",
          "text": [
            "kode program ini akan selalu di eksekusi\n"
          ]
        }
      ]
    },
    {
      "cell_type": "code",
      "source": [
        "nilai = 90\n",
        "print('Nilai anda salah, nilai, A')"
      ],
      "metadata": {
        "colab": {
          "base_uri": "https://localhost:8080/"
        },
        "id": "VnnOulW2X_mO",
        "outputId": "2c8f2383-2055-48a3-97e1-d6f9cafdcb8b"
      },
      "execution_count": 4,
      "outputs": [
        {
          "output_type": "stream",
          "name": "stdout",
          "text": [
            "Nilai anda salah, nilai, A\n"
          ]
        }
      ]
    },
    {
      "cell_type": "code",
      "source": [
        "if nilai>= 90:\n",
        "  print('selamat anda lulus!')"
      ],
      "metadata": {
        "colab": {
          "base_uri": "https://localhost:8080/"
        },
        "id": "QVxNvdA6YQEV",
        "outputId": "209af9b7-5e9c-4ef4-f475-1e440a316f1d"
      },
      "execution_count": 5,
      "outputs": [
        {
          "output_type": "stream",
          "name": "stdout",
          "text": [
            "selamat anda lulus!\n"
          ]
        }
      ]
    },
    {
      "cell_type": "code",
      "source": [
        "nilai = int(input('masukkan nilai: '))\n",
        "if nilai >= 90:\n",
        "  print('predikat A')\n",
        "elif nilai >= 80:\n",
        "  print('predikat B')\n",
        "elif nilai >= 60:\n",
        "  print('predikat C')\n",
        "elif nilai >= 40:\n",
        "  print('predikat D')\n",
        "else:\n",
        "  print('predikat E')\n",
        ""
      ],
      "metadata": {
        "colab": {
          "base_uri": "https://localhost:8080/"
        },
        "id": "5xQIIHssYkbv",
        "outputId": "097539ff-6e79-48fb-d22d-4f7d2c65e80f"
      },
      "execution_count": 8,
      "outputs": [
        {
          "output_type": "stream",
          "name": "stdout",
          "text": [
            "masukkan nilai: 80\n",
            "predikat B\n"
          ]
        }
      ]
    },
    {
      "cell_type": "code",
      "source": [
        "buah_yang_tersedia = ['jeruk','mangga','melon']\n",
        "buah_yang_dicari = input('masukkan nama buah dalam huruf kecil: ')\n",
        "\n",
        "if (buah_yang_dicari in buah_yang_tersedia):\n",
        "  print('buah yang anda cari tersedia!')\n",
        "else:\n",
        "  print('buah yang anda cari tidak tersedia! ')\n"
      ],
      "metadata": {
        "colab": {
          "base_uri": "https://localhost:8080/"
        },
        "id": "ZK9Qys8DkGsk",
        "outputId": "54ae2e0b-d70a-4905-b42f-325f7dd54ca7"
      },
      "execution_count": 9,
      "outputs": [
        {
          "output_type": "stream",
          "name": "stdout",
          "text": [
            "masukkan nama buah dalam huruf kecil: anggur\n",
            "buah yang anda cari tidak tersedia! \n"
          ]
        }
      ]
    }
  ]
}